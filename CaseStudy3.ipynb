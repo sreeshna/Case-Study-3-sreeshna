{
  "nbformat": 4,
  "nbformat_minor": 0,
  "metadata": {
    "colab": {
      "name": "CaseStudy3.ipynb",
      "provenance": []
    },
    "kernelspec": {
      "name": "python3",
      "display_name": "Python 3"
    },
    "language_info": {
      "name": "python"
    }
  },
  "cells": [
    {
      "cell_type": "code",
      "metadata": {
        "id": "DY3W2q1TeYA2"
      },
      "source": [
        "import pandas as pd\n",
        "import numpy as np\n",
        "import matplotlib.pyplot as plt\n",
        "import seaborn as sns"
      ],
      "execution_count": 1,
      "outputs": []
    },
    {
      "cell_type": "code",
      "metadata": {
        "id": "oc7THF0neakV"
      },
      "source": [
        "df = pd.read_csv(\"/content/drive/MyDrive/Add_sales_data_2018.csv\")"
      ],
      "execution_count": 2,
      "outputs": []
    },
    {
      "cell_type": "code",
      "metadata": {
        "id": "0KzBXAb3e1wV",
        "colab": {
          "base_uri": "https://localhost:8080/",
          "height": 206
        },
        "outputId": "3b50c682-341b-43b5-8c63-2b60ceadbd13"
      },
      "source": [
        "df.head()"
      ],
      "execution_count": 3,
      "outputs": [
        {
          "output_type": "execute_result",
          "data": {
            "text/html": [
              "<div>\n",
              "<style scoped>\n",
              "    .dataframe tbody tr th:only-of-type {\n",
              "        vertical-align: middle;\n",
              "    }\n",
              "\n",
              "    .dataframe tbody tr th {\n",
              "        vertical-align: top;\n",
              "    }\n",
              "\n",
              "    .dataframe thead th {\n",
              "        text-align: right;\n",
              "    }\n",
              "</style>\n",
              "<table border=\"1\" class=\"dataframe\">\n",
              "  <thead>\n",
              "    <tr style=\"text-align: right;\">\n",
              "      <th></th>\n",
              "      <th>Date</th>\n",
              "      <th>Add1(in Thousands)</th>\n",
              "      <th>Add2(in Thousands)</th>\n",
              "      <th>Add3(in Thousands)</th>\n",
              "      <th>Add4(in Thousands)</th>\n",
              "      <th>Add5(in Thousands)</th>\n",
              "      <th>Profit(in Thousands)</th>\n",
              "    </tr>\n",
              "  </thead>\n",
              "  <tbody>\n",
              "    <tr>\n",
              "      <th>0</th>\n",
              "      <td>2018-10-08</td>\n",
              "      <td>208.00</td>\n",
              "      <td>222.25</td>\n",
              "      <td>206.85</td>\n",
              "      <td>216.00</td>\n",
              "      <td>215.15</td>\n",
              "      <td>4093.065</td>\n",
              "    </tr>\n",
              "    <tr>\n",
              "      <th>1</th>\n",
              "      <td>2018-10-05</td>\n",
              "      <td>217.00</td>\n",
              "      <td>218.60</td>\n",
              "      <td>205.90</td>\n",
              "      <td>210.25</td>\n",
              "      <td>209.20</td>\n",
              "      <td>4042.448</td>\n",
              "    </tr>\n",
              "    <tr>\n",
              "      <th>2</th>\n",
              "      <td>2018-10-04</td>\n",
              "      <td>223.50</td>\n",
              "      <td>227.80</td>\n",
              "      <td>216.15</td>\n",
              "      <td>217.25</td>\n",
              "      <td>218.20</td>\n",
              "      <td>4213.819</td>\n",
              "    </tr>\n",
              "    <tr>\n",
              "      <th>3</th>\n",
              "      <td>2018-10-03</td>\n",
              "      <td>230.00</td>\n",
              "      <td>237.50</td>\n",
              "      <td>225.75</td>\n",
              "      <td>226.45</td>\n",
              "      <td>227.60</td>\n",
              "      <td>4391.665</td>\n",
              "    </tr>\n",
              "    <tr>\n",
              "      <th>4</th>\n",
              "      <td>2018-10-01</td>\n",
              "      <td>234.55</td>\n",
              "      <td>234.60</td>\n",
              "      <td>221.05</td>\n",
              "      <td>230.30</td>\n",
              "      <td>230.90</td>\n",
              "      <td>4350.683</td>\n",
              "    </tr>\n",
              "  </tbody>\n",
              "</table>\n",
              "</div>"
            ],
            "text/plain": [
              "         Date  Add1(in Thousands)  ...  Add5(in Thousands)  Profit(in Thousands)\n",
              "0  2018-10-08              208.00  ...              215.15              4093.065\n",
              "1  2018-10-05              217.00  ...              209.20              4042.448\n",
              "2  2018-10-04              223.50  ...              218.20              4213.819\n",
              "3  2018-10-03              230.00  ...              227.60              4391.665\n",
              "4  2018-10-01              234.55  ...              230.90              4350.683\n",
              "\n",
              "[5 rows x 7 columns]"
            ]
          },
          "metadata": {},
          "execution_count": 3
        }
      ]
    },
    {
      "cell_type": "code",
      "source": [
        "df.isna().sum()"
      ],
      "metadata": {
        "colab": {
          "base_uri": "https://localhost:8080/"
        },
        "id": "FNBaOalDk86W",
        "outputId": "8d459ee3-0121-4524-e6e9-728799b68358"
      },
      "execution_count": 4,
      "outputs": [
        {
          "output_type": "execute_result",
          "data": {
            "text/plain": [
              "Date                    0\n",
              "Add1(in Thousands)      0\n",
              "Add2(in Thousands)      0\n",
              "Add3(in Thousands)      0\n",
              "Add4(in Thousands)      0\n",
              "Add5(in Thousands)      0\n",
              "Profit(in Thousands)    0\n",
              "dtype: int64"
            ]
          },
          "metadata": {},
          "execution_count": 4
        }
      ]
    },
    {
      "cell_type": "code",
      "source": [
        "cmatrix = df.corr()\n",
        "plt.figure(figsize = (15,8))\n",
        "sns.heatmap(cmatrix,annot = True, linewidth = 0.5, cmap = \"YlOrRd\")\n",
        "plt.show()"
      ],
      "metadata": {
        "colab": {
          "base_uri": "https://localhost:8080/",
          "height": 487
        },
        "id": "yxHnpFFhk_bM",
        "outputId": "2bbe40db-e13f-4264-bf41-4ab1c5a5bc53"
      },
      "execution_count": 5,
      "outputs": [
        {
          "output_type": "display_data",
          "data": {
            "image/png": "[encoded data removed]",
            "text/plain": [
              "<Figure size 1080x576 with 2 Axes>"
            ]
          },
          "metadata": {
            "needs_background": "light"
          }
        }
      ]
    },
    {
      "cell_type": "code",
      "source": [
        "#High Correlation exit among all the features in the table. \n",
        "# Profit has a high correlation with five different advertising companies"
      ],
      "metadata": {
        "id": "2B6nNgWalCtq"
      },
      "execution_count": 6,
      "outputs": []
    },
    {
      "cell_type": "code",
      "source": [
        "df.columns"
      ],
      "metadata": {
        "colab": {
          "base_uri": "https://localhost:8080/"
        },
        "id": "v480p0KslGUv",
        "outputId": "a0f1b7ea-ba71-4536-aa21-509f9ba10934"
      },
      "execution_count": 7,
      "outputs": [
        {
          "output_type": "execute_result",
          "data": {
            "text/plain": [
              "Index(['Date', 'Add1(in Thousands)', 'Add2(in Thousands)',\n",
              "       'Add3(in Thousands)', 'Add4(in Thousands)', 'Add5(in Thousands)',\n",
              "       'Profit(in Thousands)'],\n",
              "      dtype='object')"
            ]
          },
          "metadata": {},
          "execution_count": 7
        }
      ]
    },
    {
      "cell_type": "code",
      "source": [
        "d1 = df.drop(['Date'],axis = 1)\n",
        "d1.columns"
      ],
      "metadata": {
        "colab": {
          "base_uri": "https://localhost:8080/"
        },
        "id": "unVZ8EhwlIW1",
        "outputId": "cb2b273d-c4d5-46cd-d268-bbe7f0718c3e"
      },
      "execution_count": 8,
      "outputs": [
        {
          "output_type": "execute_result",
          "data": {
            "text/plain": [
              "Index(['Add1(in Thousands)', 'Add2(in Thousands)', 'Add3(in Thousands)',\n",
              "       'Add4(in Thousands)', 'Add5(in Thousands)', 'Profit(in Thousands)'],\n",
              "      dtype='object')"
            ]
          },
          "metadata": {},
          "execution_count": 8
        }
      ]
    },
    {
      "cell_type": "code",
      "source": [
        "y = d1['Profit(in Thousands)']\n",
        "x = d1.drop(['Profit(in Thousands)','Add5(in Thousands)'],axis = 1)"
      ],
      "metadata": {
        "id": "dvz_9QuXlLnK"
      },
      "execution_count": 9,
      "outputs": []
    },
    {
      "cell_type": "code",
      "source": [
        "from sklearn.model_selection import train_test_split\n",
        "xTrain,xTest,yTrain,yTest = train_test_split(x,y,random_state = 0,test_size = .25)"
      ],
      "metadata": {
        "id": "hz4vLPuvlONI"
      },
      "execution_count": 10,
      "outputs": []
    },
    {
      "cell_type": "code",
      "source": [
        "from sklearn import linear_model\n",
        "lr = linear_model.LinearRegression()"
      ],
      "metadata": {
        "id": "mwbnnSORlQwn"
      },
      "execution_count": 11,
      "outputs": []
    },
    {
      "cell_type": "code",
      "source": [
        "model = lr.fit(xTrain.values,yTrain.values)"
      ],
      "metadata": {
        "id": "_AzaYUZ1lTqs"
      },
      "execution_count": 12,
      "outputs": []
    },
    {
      "cell_type": "code",
      "source": [
        "predictions = model.predict(xTest.values)"
      ],
      "metadata": {
        "id": "zeA2sPnelV_6"
      },
      "execution_count": 13,
      "outputs": []
    },
    {
      "cell_type": "code",
      "source": [
        "a = pd.DataFrame({'Actual value': yTest, 'Predicted value': predictions, \"Difference\":yTest-predictions})"
      ],
      "metadata": {
        "id": "NtxzHDKolYLc"
      },
      "execution_count": 14,
      "outputs": []
    },
    {
      "cell_type": "code",
      "source": [
        "a"
      ],
      "metadata": {
        "colab": {
          "base_uri": "https://localhost:8080/",
          "height": 1000
        },
        "id": "YBdHVCDMlaij",
        "outputId": "5cff6928-60cf-4bc7-f616-3486426ff350"
      },
      "execution_count": 15,
      "outputs": [
        {
          "output_type": "execute_result",
          "data": {
            "text/html": [
              "<div>\n",
              "<style scoped>\n",
              "    .dataframe tbody tr th:only-of-type {\n",
              "        vertical-align: middle;\n",
              "    }\n",
              "\n",
              "    .dataframe tbody tr th {\n",
              "        vertical-align: top;\n",
              "    }\n",
              "\n",
              "    .dataframe thead th {\n",
              "        text-align: right;\n",
              "    }\n",
              "</style>\n",
              "<table border=\"1\" class=\"dataframe\">\n",
              "  <thead>\n",
              "    <tr style=\"text-align: right;\">\n",
              "      <th></th>\n",
              "      <th>Actual value</th>\n",
              "      <th>Predicted value</th>\n",
              "      <th>Difference</th>\n",
              "    </tr>\n",
              "  </thead>\n",
              "  <tbody>\n",
              "    <tr>\n",
              "      <th>52</th>\n",
              "      <td>4494.144</td>\n",
              "      <td>4493.680825</td>\n",
              "      <td>0.463175</td>\n",
              "    </tr>\n",
              "    <tr>\n",
              "      <th>181</th>\n",
              "      <td>5921.116</td>\n",
              "      <td>5921.047721</td>\n",
              "      <td>0.068279</td>\n",
              "    </tr>\n",
              "    <tr>\n",
              "      <th>5</th>\n",
              "      <td>4404.686</td>\n",
              "      <td>4404.315209</td>\n",
              "      <td>0.370791</td>\n",
              "    </tr>\n",
              "    <tr>\n",
              "      <th>18</th>\n",
              "      <td>4190.965</td>\n",
              "      <td>4191.019622</td>\n",
              "      <td>-0.054622</td>\n",
              "    </tr>\n",
              "    <tr>\n",
              "      <th>188</th>\n",
              "      <td>5880.541</td>\n",
              "      <td>5879.952763</td>\n",
              "      <td>0.588237</td>\n",
              "    </tr>\n",
              "    <tr>\n",
              "      <th>170</th>\n",
              "      <td>5728.804</td>\n",
              "      <td>5728.486997</td>\n",
              "      <td>0.317003</td>\n",
              "    </tr>\n",
              "    <tr>\n",
              "      <th>76</th>\n",
              "      <td>5225.140</td>\n",
              "      <td>5225.388505</td>\n",
              "      <td>-0.248505</td>\n",
              "    </tr>\n",
              "    <tr>\n",
              "      <th>154</th>\n",
              "      <td>5017.503</td>\n",
              "      <td>5017.308073</td>\n",
              "      <td>0.194927</td>\n",
              "    </tr>\n",
              "    <tr>\n",
              "      <th>104</th>\n",
              "      <td>5518.561</td>\n",
              "      <td>5518.295589</td>\n",
              "      <td>0.265411</td>\n",
              "    </tr>\n",
              "    <tr>\n",
              "      <th>33</th>\n",
              "      <td>4513.600</td>\n",
              "      <td>4514.516192</td>\n",
              "      <td>-0.916192</td>\n",
              "    </tr>\n",
              "    <tr>\n",
              "      <th>12</th>\n",
              "      <td>4464.110</td>\n",
              "      <td>4464.474192</td>\n",
              "      <td>-0.364192</td>\n",
              "    </tr>\n",
              "    <tr>\n",
              "      <th>129</th>\n",
              "      <td>5140.372</td>\n",
              "      <td>5140.481144</td>\n",
              "      <td>-0.109144</td>\n",
              "    </tr>\n",
              "    <tr>\n",
              "      <th>55</th>\n",
              "      <td>4760.877</td>\n",
              "      <td>4761.544182</td>\n",
              "      <td>-0.667182</td>\n",
              "    </tr>\n",
              "    <tr>\n",
              "      <th>66</th>\n",
              "      <td>5038.222</td>\n",
              "      <td>5038.002270</td>\n",
              "      <td>0.219730</td>\n",
              "    </tr>\n",
              "    <tr>\n",
              "      <th>45</th>\n",
              "      <td>4606.340</td>\n",
              "      <td>4607.661956</td>\n",
              "      <td>-1.321956</td>\n",
              "    </tr>\n",
              "    <tr>\n",
              "      <th>169</th>\n",
              "      <td>5730.999</td>\n",
              "      <td>5731.060563</td>\n",
              "      <td>-0.061563</td>\n",
              "    </tr>\n",
              "    <tr>\n",
              "      <th>130</th>\n",
              "      <td>4922.845</td>\n",
              "      <td>4923.312666</td>\n",
              "      <td>-0.467666</td>\n",
              "    </tr>\n",
              "    <tr>\n",
              "      <th>7</th>\n",
              "      <td>4470.775</td>\n",
              "      <td>4471.295729</td>\n",
              "      <td>-0.520729</td>\n",
              "    </tr>\n",
              "    <tr>\n",
              "      <th>37</th>\n",
              "      <td>4480.363</td>\n",
              "      <td>4480.386060</td>\n",
              "      <td>-0.023060</td>\n",
              "    </tr>\n",
              "    <tr>\n",
              "      <th>152</th>\n",
              "      <td>5065.652</td>\n",
              "      <td>5065.875792</td>\n",
              "      <td>-0.223792</td>\n",
              "    </tr>\n",
              "    <tr>\n",
              "      <th>80</th>\n",
              "      <td>5043.705</td>\n",
              "      <td>5043.766012</td>\n",
              "      <td>-0.061012</td>\n",
              "    </tr>\n",
              "    <tr>\n",
              "      <th>111</th>\n",
              "      <td>5491.792</td>\n",
              "      <td>5491.671671</td>\n",
              "      <td>0.120329</td>\n",
              "    </tr>\n",
              "    <tr>\n",
              "      <th>131</th>\n",
              "      <td>4968.030</td>\n",
              "      <td>4968.044933</td>\n",
              "      <td>-0.014933</td>\n",
              "    </tr>\n",
              "    <tr>\n",
              "      <th>171</th>\n",
              "      <td>5792.175</td>\n",
              "      <td>5793.375476</td>\n",
              "      <td>-1.200476</td>\n",
              "    </tr>\n",
              "    <tr>\n",
              "      <th>179</th>\n",
              "      <td>6137.800</td>\n",
              "      <td>6138.388958</td>\n",
              "      <td>-0.588958</td>\n",
              "    </tr>\n",
              "    <tr>\n",
              "      <th>138</th>\n",
              "      <td>5247.011</td>\n",
              "      <td>5247.311064</td>\n",
              "      <td>-0.300064</td>\n",
              "    </tr>\n",
              "    <tr>\n",
              "      <th>156</th>\n",
              "      <td>5137.534</td>\n",
              "      <td>5138.070195</td>\n",
              "      <td>-0.536195</td>\n",
              "    </tr>\n",
              "    <tr>\n",
              "      <th>113</th>\n",
              "      <td>5373.275</td>\n",
              "      <td>5373.998236</td>\n",
              "      <td>-0.723236</td>\n",
              "    </tr>\n",
              "    <tr>\n",
              "      <th>161</th>\n",
              "      <td>5212.949</td>\n",
              "      <td>5213.218586</td>\n",
              "      <td>-0.269586</td>\n",
              "    </tr>\n",
              "    <tr>\n",
              "      <th>89</th>\n",
              "      <td>4898.776</td>\n",
              "      <td>4899.484872</td>\n",
              "      <td>-0.708872</td>\n",
              "    </tr>\n",
              "    <tr>\n",
              "      <th>183</th>\n",
              "      <td>5972.337</td>\n",
              "      <td>5971.944520</td>\n",
              "      <td>0.392480</td>\n",
              "    </tr>\n",
              "    <tr>\n",
              "      <th>193</th>\n",
              "      <td>5745.806</td>\n",
              "      <td>5745.244558</td>\n",
              "      <td>0.561442</td>\n",
              "    </tr>\n",
              "    <tr>\n",
              "      <th>125</th>\n",
              "      <td>5153.977</td>\n",
              "      <td>5153.913659</td>\n",
              "      <td>0.063341</td>\n",
              "    </tr>\n",
              "    <tr>\n",
              "      <th>173</th>\n",
              "      <td>5805.521</td>\n",
              "      <td>5805.674060</td>\n",
              "      <td>-0.153060</td>\n",
              "    </tr>\n",
              "    <tr>\n",
              "      <th>92</th>\n",
              "      <td>4763.690</td>\n",
              "      <td>4763.736435</td>\n",
              "      <td>-0.046435</td>\n",
              "    </tr>\n",
              "    <tr>\n",
              "      <th>16</th>\n",
              "      <td>4175.677</td>\n",
              "      <td>4176.204402</td>\n",
              "      <td>-0.527402</td>\n",
              "    </tr>\n",
              "    <tr>\n",
              "      <th>189</th>\n",
              "      <td>5938.474</td>\n",
              "      <td>5938.882326</td>\n",
              "      <td>-0.408326</td>\n",
              "    </tr>\n",
              "    <tr>\n",
              "      <th>136</th>\n",
              "      <td>4915.682</td>\n",
              "      <td>4916.317706</td>\n",
              "      <td>-0.635706</td>\n",
              "    </tr>\n",
              "    <tr>\n",
              "      <th>22</th>\n",
              "      <td>4523.704</td>\n",
              "      <td>4524.296904</td>\n",
              "      <td>-0.592904</td>\n",
              "    </tr>\n",
              "    <tr>\n",
              "      <th>74</th>\n",
              "      <td>5113.337</td>\n",
              "      <td>5113.328826</td>\n",
              "      <td>0.008174</td>\n",
              "    </tr>\n",
              "    <tr>\n",
              "      <th>44</th>\n",
              "      <td>4648.627</td>\n",
              "      <td>4648.752469</td>\n",
              "      <td>-0.125469</td>\n",
              "    </tr>\n",
              "    <tr>\n",
              "      <th>4</th>\n",
              "      <td>4350.683</td>\n",
              "      <td>4349.368195</td>\n",
              "      <td>1.314805</td>\n",
              "    </tr>\n",
              "    <tr>\n",
              "      <th>71</th>\n",
              "      <td>4916.064</td>\n",
              "      <td>4915.824180</td>\n",
              "      <td>0.239820</td>\n",
              "    </tr>\n",
              "    <tr>\n",
              "      <th>134</th>\n",
              "      <td>4934.682</td>\n",
              "      <td>4934.853696</td>\n",
              "      <td>-0.171696</td>\n",
              "    </tr>\n",
              "    <tr>\n",
              "      <th>145</th>\n",
              "      <td>5108.626</td>\n",
              "      <td>5108.536669</td>\n",
              "      <td>0.089331</td>\n",
              "    </tr>\n",
              "    <tr>\n",
              "      <th>122</th>\n",
              "      <td>5167.878</td>\n",
              "      <td>5167.706190</td>\n",
              "      <td>0.171810</td>\n",
              "    </tr>\n",
              "    <tr>\n",
              "      <th>26</th>\n",
              "      <td>4451.999</td>\n",
              "      <td>4451.705311</td>\n",
              "      <td>0.293689</td>\n",
              "    </tr>\n",
              "    <tr>\n",
              "      <th>83</th>\n",
              "      <td>4980.446</td>\n",
              "      <td>4980.063424</td>\n",
              "      <td>0.382576</td>\n",
              "    </tr>\n",
              "    <tr>\n",
              "      <th>149</th>\n",
              "      <td>5177.610</td>\n",
              "      <td>5177.492275</td>\n",
              "      <td>0.117725</td>\n",
              "    </tr>\n",
              "    <tr>\n",
              "      <th>186</th>\n",
              "      <td>5861.830</td>\n",
              "      <td>5861.519343</td>\n",
              "      <td>0.310657</td>\n",
              "    </tr>\n",
              "    <tr>\n",
              "      <th>8</th>\n",
              "      <td>4425.005</td>\n",
              "      <td>4424.976728</td>\n",
              "      <td>0.028272</td>\n",
              "    </tr>\n",
              "    <tr>\n",
              "      <th>90</th>\n",
              "      <td>4887.296</td>\n",
              "      <td>4887.310991</td>\n",
              "      <td>-0.014991</td>\n",
              "    </tr>\n",
              "  </tbody>\n",
              "</table>\n",
              "</div>"
            ],
            "text/plain": [
              "     Actual value  Predicted value  Difference\n",
              "52       4494.144      4493.680825    0.463175\n",
              "181      5921.116      5921.047721    0.068279\n",
              "5        4404.686      4404.315209    0.370791\n",
              "18       4190.965      4191.019622   -0.054622\n",
              "188      5880.541      5879.952763    0.588237\n",
              "170      5728.804      5728.486997    0.317003\n",
              "76       5225.140      5225.388505   -0.248505\n",
              "154      5017.503      5017.308073    0.194927\n",
              "104      5518.561      5518.295589    0.265411\n",
              "33       4513.600      4514.516192   -0.916192\n",
              "12       4464.110      4464.474192   -0.364192\n",
              "129      5140.372      5140.481144   -0.109144\n",
              "55       4760.877      4761.544182   -0.667182\n",
              "66       5038.222      5038.002270    0.219730\n",
              "45       4606.340      4607.661956   -1.321956\n",
              "169      5730.999      5731.060563   -0.061563\n",
              "130      4922.845      4923.312666   -0.467666\n",
              "7        4470.775      4471.295729   -0.520729\n",
              "37       4480.363      4480.386060   -0.023060\n",
              "152      5065.652      5065.875792   -0.223792\n",
              "80       5043.705      5043.766012   -0.061012\n",
              "111      5491.792      5491.671671    0.120329\n",
              "131      4968.030      4968.044933   -0.014933\n",
              "171      5792.175      5793.375476   -1.200476\n",
              "179      6137.800      6138.388958   -0.588958\n",
              "138      5247.011      5247.311064   -0.300064\n",
              "156      5137.534      5138.070195   -0.536195\n",
              "113      5373.275      5373.998236   -0.723236\n",
              "161      5212.949      5213.218586   -0.269586\n",
              "89       4898.776      4899.484872   -0.708872\n",
              "183      5972.337      5971.944520    0.392480\n",
              "193      5745.806      5745.244558    0.561442\n",
              "125      5153.977      5153.913659    0.063341\n",
              "173      5805.521      5805.674060   -0.153060\n",
              "92       4763.690      4763.736435   -0.046435\n",
              "16       4175.677      4176.204402   -0.527402\n",
              "189      5938.474      5938.882326   -0.408326\n",
              "136      4915.682      4916.317706   -0.635706\n",
              "22       4523.704      4524.296904   -0.592904\n",
              "74       5113.337      5113.328826    0.008174\n",
              "44       4648.627      4648.752469   -0.125469\n",
              "4        4350.683      4349.368195    1.314805\n",
              "71       4916.064      4915.824180    0.239820\n",
              "134      4934.682      4934.853696   -0.171696\n",
              "145      5108.626      5108.536669    0.089331\n",
              "122      5167.878      5167.706190    0.171810\n",
              "26       4451.999      4451.705311    0.293689\n",
              "83       4980.446      4980.063424    0.382576\n",
              "149      5177.610      5177.492275    0.117725\n",
              "186      5861.830      5861.519343    0.310657\n",
              "8        4425.005      4424.976728    0.028272\n",
              "90       4887.296      4887.310991   -0.014991"
            ]
          },
          "metadata": {},
          "execution_count": 15
        }
      ]
    },
    {
      "cell_type": "code",
      "source": [
        "from sklearn.metrics import mean_squared_error\n",
        "print(\"MSE is : \",mean_squared_error(yTest,predictions))"
      ],
      "metadata": {
        "colab": {
          "base_uri": "https://localhost:8080/"
        },
        "id": "eOxzQxnxlcB2",
        "outputId": "dc18b59a-3493-4b02-e52e-6009e273415a"
      },
      "execution_count": 16,
      "outputs": [
        {
          "output_type": "stream",
          "name": "stdout",
          "text": [
            "MSE is :  0.2296197221610621\n"
          ]
        }
      ]
    },
    {
      "cell_type": "code",
      "source": [
        "from sklearn.metrics import r2_score\n",
        "score=r2_score(yTest,predictions)\n",
        "print(\"r2 socre is \",score)"
      ],
      "metadata": {
        "colab": {
          "base_uri": "https://localhost:8080/"
        },
        "id": "wtPtkaCmlfd6",
        "outputId": "78d4932e-d0e7-46b5-d138-f4123b413ab4"
      },
      "execution_count": 17,
      "outputs": [
        {
          "output_type": "stream",
          "name": "stdout",
          "text": [
            "r2 socre is  0.9999991343232526\n"
          ]
        }
      ]
    },
    {
      "cell_type": "markdown",
      "source": [
        "# The MSE is 0.2296.... which suggest that values predicted are closer to the values actually got"
      ],
      "metadata": {
        "id": "18OjgQ45lkRc"
      }
    },
    {
      "cell_type": "code",
      "source": [
        "row = [290,312,309,298]\n",
        "rowpredict = model.predict([row])"
      ],
      "metadata": {
        "id": "yaquPmWOlhhP"
      },
      "execution_count": 18,
      "outputs": []
    },
    {
      "cell_type": "code",
      "source": [
        "a = rowpredict\n",
        "rowpredict"
      ],
      "metadata": {
        "colab": {
          "base_uri": "https://localhost:8080/"
        },
        "id": "V5Q2VoPqlpvE",
        "outputId": "9d9223e0-2ecd-43f4-c82b-b4fb90179a3a"
      },
      "execution_count": 19,
      "outputs": [
        {
          "output_type": "execute_result",
          "data": {
            "text/plain": [
              "array([5803.00377206])"
            ]
          },
          "metadata": {},
          "execution_count": 19
        }
      ]
    },
    {
      "cell_type": "code",
      "source": [
        "row = [290,312,309,320]\n",
        "rowpredict = model.predict([row])\n",
        "rowpredict"
      ],
      "metadata": {
        "colab": {
          "base_uri": "https://localhost:8080/"
        },
        "id": "H1bHTkmilr6K",
        "outputId": "ce6380af-c3b3-44f6-bd80-1b325f5d28e4"
      },
      "execution_count": 20,
      "outputs": [
        {
          "output_type": "execute_result",
          "data": {
            "text/plain": [
              "array([5842.39066586])"
            ]
          },
          "metadata": {},
          "execution_count": 20
        }
      ]
    },
    {
      "cell_type": "code",
      "source": [
        "a += rowpredict\n",
        "\n",
        "print(a/2)"
      ],
      "metadata": {
        "colab": {
          "base_uri": "https://localhost:8080/"
        },
        "id": "yZGaT_W_lu2b",
        "outputId": "a23d5e47-2cbf-439e-a686-3b83800d52fd"
      },
      "execution_count": 21,
      "outputs": [
        {
          "output_type": "stream",
          "name": "stdout",
          "text": [
            "[5822.69721896]\n"
          ]
        }
      ]
    },
    {
      "cell_type": "markdown",
      "source": [
        "## Profit of the company is 5822.69721896 (in thousands)**bold text**"
      ],
      "metadata": {
        "id": "2ldnQlfbl0Ma"
      }
    },
    {
      "cell_type": "code",
      "source": [
        ""
      ],
      "metadata": {
        "id": "j70ZTFIZlw45"
      },
      "execution_count": null,
      "outputs": []
    }
  ]
}